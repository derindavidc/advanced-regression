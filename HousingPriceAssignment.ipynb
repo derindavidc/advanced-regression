{
 "cells": [
  {
   "cell_type": "code",
   "execution_count": 1,
   "id": "df0b80cf",
   "metadata": {},
   "outputs": [],
   "source": [
    "#Importing libraries\n",
    "import pandas as pd\n",
    "import sweetviz as sv #For EDA\n",
    "import seaborn as sns\n",
    "import matplotlib.pyplot as plt\n",
    "from sklearn.model_selection import train_test_split\n",
    "from sklearn.preprocessing import MinMaxScaler\n",
    "from sklearn.model_selection import GridSearchCV\n",
    "from sklearn.metrics import mean_squared_error\n",
    "from sklearn.metrics import r2_score\n",
    "import numpy as np\n"
   ]
  },
  {
   "cell_type": "code",
   "execution_count": 2,
   "id": "b8f0b1bd",
   "metadata": {},
   "outputs": [],
   "source": [
    "#Reading the data\n",
    "house = pd.read_csv(\"C:\\\\Users\\\\user\\\\Downloads\\\\Housing price assign\\\\train.csv\")"
   ]
  },
  {
   "cell_type": "code",
   "execution_count": 3,
   "id": "a9f8f4b3",
   "metadata": {},
   "outputs": [],
   "source": [
    "#Doing Basic checks"
   ]
  },
  {
   "cell_type": "code",
   "execution_count": 4,
   "id": "7d17a20e",
   "metadata": {},
   "outputs": [
    {
     "data": {
      "text/html": [
       "<div>\n",
       "<style scoped>\n",
       "    .dataframe tbody tr th:only-of-type {\n",
       "        vertical-align: middle;\n",
       "    }\n",
       "\n",
       "    .dataframe tbody tr th {\n",
       "        vertical-align: top;\n",
       "    }\n",
       "\n",
       "    .dataframe thead th {\n",
       "        text-align: right;\n",
       "    }\n",
       "</style>\n",
       "<table border=\"1\" class=\"dataframe\">\n",
       "  <thead>\n",
       "    <tr style=\"text-align: right;\">\n",
       "      <th></th>\n",
       "      <th>Id</th>\n",
       "      <th>MSSubClass</th>\n",
       "      <th>MSZoning</th>\n",
       "      <th>LotFrontage</th>\n",
       "      <th>LotArea</th>\n",
       "      <th>Street</th>\n",
       "      <th>Alley</th>\n",
       "      <th>LotShape</th>\n",
       "      <th>LandContour</th>\n",
       "      <th>Utilities</th>\n",
       "      <th>...</th>\n",
       "      <th>PoolArea</th>\n",
       "      <th>PoolQC</th>\n",
       "      <th>Fence</th>\n",
       "      <th>MiscFeature</th>\n",
       "      <th>MiscVal</th>\n",
       "      <th>MoSold</th>\n",
       "      <th>YrSold</th>\n",
       "      <th>SaleType</th>\n",
       "      <th>SaleCondition</th>\n",
       "      <th>SalePrice</th>\n",
       "    </tr>\n",
       "  </thead>\n",
       "  <tbody>\n",
       "    <tr>\n",
       "      <th>0</th>\n",
       "      <td>1</td>\n",
       "      <td>60</td>\n",
       "      <td>RL</td>\n",
       "      <td>65.0</td>\n",
       "      <td>8450</td>\n",
       "      <td>Pave</td>\n",
       "      <td>NaN</td>\n",
       "      <td>Reg</td>\n",
       "      <td>Lvl</td>\n",
       "      <td>AllPub</td>\n",
       "      <td>...</td>\n",
       "      <td>0</td>\n",
       "      <td>NaN</td>\n",
       "      <td>NaN</td>\n",
       "      <td>NaN</td>\n",
       "      <td>0</td>\n",
       "      <td>2</td>\n",
       "      <td>2008</td>\n",
       "      <td>WD</td>\n",
       "      <td>Normal</td>\n",
       "      <td>208500</td>\n",
       "    </tr>\n",
       "    <tr>\n",
       "      <th>1</th>\n",
       "      <td>2</td>\n",
       "      <td>20</td>\n",
       "      <td>RL</td>\n",
       "      <td>80.0</td>\n",
       "      <td>9600</td>\n",
       "      <td>Pave</td>\n",
       "      <td>NaN</td>\n",
       "      <td>Reg</td>\n",
       "      <td>Lvl</td>\n",
       "      <td>AllPub</td>\n",
       "      <td>...</td>\n",
       "      <td>0</td>\n",
       "      <td>NaN</td>\n",
       "      <td>NaN</td>\n",
       "      <td>NaN</td>\n",
       "      <td>0</td>\n",
       "      <td>5</td>\n",
       "      <td>2007</td>\n",
       "      <td>WD</td>\n",
       "      <td>Normal</td>\n",
       "      <td>181500</td>\n",
       "    </tr>\n",
       "    <tr>\n",
       "      <th>2</th>\n",
       "      <td>3</td>\n",
       "      <td>60</td>\n",
       "      <td>RL</td>\n",
       "      <td>68.0</td>\n",
       "      <td>11250</td>\n",
       "      <td>Pave</td>\n",
       "      <td>NaN</td>\n",
       "      <td>IR1</td>\n",
       "      <td>Lvl</td>\n",
       "      <td>AllPub</td>\n",
       "      <td>...</td>\n",
       "      <td>0</td>\n",
       "      <td>NaN</td>\n",
       "      <td>NaN</td>\n",
       "      <td>NaN</td>\n",
       "      <td>0</td>\n",
       "      <td>9</td>\n",
       "      <td>2008</td>\n",
       "      <td>WD</td>\n",
       "      <td>Normal</td>\n",
       "      <td>223500</td>\n",
       "    </tr>\n",
       "    <tr>\n",
       "      <th>3</th>\n",
       "      <td>4</td>\n",
       "      <td>70</td>\n",
       "      <td>RL</td>\n",
       "      <td>60.0</td>\n",
       "      <td>9550</td>\n",
       "      <td>Pave</td>\n",
       "      <td>NaN</td>\n",
       "      <td>IR1</td>\n",
       "      <td>Lvl</td>\n",
       "      <td>AllPub</td>\n",
       "      <td>...</td>\n",
       "      <td>0</td>\n",
       "      <td>NaN</td>\n",
       "      <td>NaN</td>\n",
       "      <td>NaN</td>\n",
       "      <td>0</td>\n",
       "      <td>2</td>\n",
       "      <td>2006</td>\n",
       "      <td>WD</td>\n",
       "      <td>Abnorml</td>\n",
       "      <td>140000</td>\n",
       "    </tr>\n",
       "    <tr>\n",
       "      <th>4</th>\n",
       "      <td>5</td>\n",
       "      <td>60</td>\n",
       "      <td>RL</td>\n",
       "      <td>84.0</td>\n",
       "      <td>14260</td>\n",
       "      <td>Pave</td>\n",
       "      <td>NaN</td>\n",
       "      <td>IR1</td>\n",
       "      <td>Lvl</td>\n",
       "      <td>AllPub</td>\n",
       "      <td>...</td>\n",
       "      <td>0</td>\n",
       "      <td>NaN</td>\n",
       "      <td>NaN</td>\n",
       "      <td>NaN</td>\n",
       "      <td>0</td>\n",
       "      <td>12</td>\n",
       "      <td>2008</td>\n",
       "      <td>WD</td>\n",
       "      <td>Normal</td>\n",
       "      <td>250000</td>\n",
       "    </tr>\n",
       "  </tbody>\n",
       "</table>\n",
       "<p>5 rows × 81 columns</p>\n",
       "</div>"
      ],
      "text/plain": [
       "   Id  MSSubClass MSZoning  LotFrontage  LotArea Street Alley LotShape  \\\n",
       "0   1          60       RL         65.0     8450   Pave   NaN      Reg   \n",
       "1   2          20       RL         80.0     9600   Pave   NaN      Reg   \n",
       "2   3          60       RL         68.0    11250   Pave   NaN      IR1   \n",
       "3   4          70       RL         60.0     9550   Pave   NaN      IR1   \n",
       "4   5          60       RL         84.0    14260   Pave   NaN      IR1   \n",
       "\n",
       "  LandContour Utilities  ... PoolArea PoolQC Fence MiscFeature MiscVal MoSold  \\\n",
       "0         Lvl    AllPub  ...        0    NaN   NaN         NaN       0      2   \n",
       "1         Lvl    AllPub  ...        0    NaN   NaN         NaN       0      5   \n",
       "2         Lvl    AllPub  ...        0    NaN   NaN         NaN       0      9   \n",
       "3         Lvl    AllPub  ...        0    NaN   NaN         NaN       0      2   \n",
       "4         Lvl    AllPub  ...        0    NaN   NaN         NaN       0     12   \n",
       "\n",
       "  YrSold  SaleType  SaleCondition  SalePrice  \n",
       "0   2008        WD         Normal     208500  \n",
       "1   2007        WD         Normal     181500  \n",
       "2   2008        WD         Normal     223500  \n",
       "3   2006        WD        Abnorml     140000  \n",
       "4   2008        WD         Normal     250000  \n",
       "\n",
       "[5 rows x 81 columns]"
      ]
     },
     "execution_count": 4,
     "metadata": {},
     "output_type": "execute_result"
    }
   ],
   "source": [
    "house.head()"
   ]
  },
  {
   "cell_type": "code",
   "execution_count": 5,
   "id": "9d99b347",
   "metadata": {},
   "outputs": [
    {
     "data": {
      "text/html": [
       "<div>\n",
       "<style scoped>\n",
       "    .dataframe tbody tr th:only-of-type {\n",
       "        vertical-align: middle;\n",
       "    }\n",
       "\n",
       "    .dataframe tbody tr th {\n",
       "        vertical-align: top;\n",
       "    }\n",
       "\n",
       "    .dataframe thead th {\n",
       "        text-align: right;\n",
       "    }\n",
       "</style>\n",
       "<table border=\"1\" class=\"dataframe\">\n",
       "  <thead>\n",
       "    <tr style=\"text-align: right;\">\n",
       "      <th></th>\n",
       "      <th>Id</th>\n",
       "      <th>MSSubClass</th>\n",
       "      <th>LotFrontage</th>\n",
       "      <th>LotArea</th>\n",
       "      <th>OverallQual</th>\n",
       "      <th>OverallCond</th>\n",
       "      <th>YearBuilt</th>\n",
       "      <th>YearRemodAdd</th>\n",
       "      <th>MasVnrArea</th>\n",
       "      <th>BsmtFinSF1</th>\n",
       "      <th>...</th>\n",
       "      <th>WoodDeckSF</th>\n",
       "      <th>OpenPorchSF</th>\n",
       "      <th>EnclosedPorch</th>\n",
       "      <th>3SsnPorch</th>\n",
       "      <th>ScreenPorch</th>\n",
       "      <th>PoolArea</th>\n",
       "      <th>MiscVal</th>\n",
       "      <th>MoSold</th>\n",
       "      <th>YrSold</th>\n",
       "      <th>SalePrice</th>\n",
       "    </tr>\n",
       "  </thead>\n",
       "  <tbody>\n",
       "    <tr>\n",
       "      <th>count</th>\n",
       "      <td>1460.000000</td>\n",
       "      <td>1460.000000</td>\n",
       "      <td>1201.000000</td>\n",
       "      <td>1460.000000</td>\n",
       "      <td>1460.000000</td>\n",
       "      <td>1460.000000</td>\n",
       "      <td>1460.000000</td>\n",
       "      <td>1460.000000</td>\n",
       "      <td>1452.000000</td>\n",
       "      <td>1460.000000</td>\n",
       "      <td>...</td>\n",
       "      <td>1460.000000</td>\n",
       "      <td>1460.000000</td>\n",
       "      <td>1460.000000</td>\n",
       "      <td>1460.000000</td>\n",
       "      <td>1460.000000</td>\n",
       "      <td>1460.000000</td>\n",
       "      <td>1460.000000</td>\n",
       "      <td>1460.000000</td>\n",
       "      <td>1460.000000</td>\n",
       "      <td>1460.000000</td>\n",
       "    </tr>\n",
       "    <tr>\n",
       "      <th>mean</th>\n",
       "      <td>730.500000</td>\n",
       "      <td>56.897260</td>\n",
       "      <td>70.049958</td>\n",
       "      <td>10516.828082</td>\n",
       "      <td>6.099315</td>\n",
       "      <td>5.575342</td>\n",
       "      <td>1971.267808</td>\n",
       "      <td>1984.865753</td>\n",
       "      <td>103.685262</td>\n",
       "      <td>443.639726</td>\n",
       "      <td>...</td>\n",
       "      <td>94.244521</td>\n",
       "      <td>46.660274</td>\n",
       "      <td>21.954110</td>\n",
       "      <td>3.409589</td>\n",
       "      <td>15.060959</td>\n",
       "      <td>2.758904</td>\n",
       "      <td>43.489041</td>\n",
       "      <td>6.321918</td>\n",
       "      <td>2007.815753</td>\n",
       "      <td>180921.195890</td>\n",
       "    </tr>\n",
       "    <tr>\n",
       "      <th>std</th>\n",
       "      <td>421.610009</td>\n",
       "      <td>42.300571</td>\n",
       "      <td>24.284752</td>\n",
       "      <td>9981.264932</td>\n",
       "      <td>1.382997</td>\n",
       "      <td>1.112799</td>\n",
       "      <td>30.202904</td>\n",
       "      <td>20.645407</td>\n",
       "      <td>181.066207</td>\n",
       "      <td>456.098091</td>\n",
       "      <td>...</td>\n",
       "      <td>125.338794</td>\n",
       "      <td>66.256028</td>\n",
       "      <td>61.119149</td>\n",
       "      <td>29.317331</td>\n",
       "      <td>55.757415</td>\n",
       "      <td>40.177307</td>\n",
       "      <td>496.123024</td>\n",
       "      <td>2.703626</td>\n",
       "      <td>1.328095</td>\n",
       "      <td>79442.502883</td>\n",
       "    </tr>\n",
       "    <tr>\n",
       "      <th>min</th>\n",
       "      <td>1.000000</td>\n",
       "      <td>20.000000</td>\n",
       "      <td>21.000000</td>\n",
       "      <td>1300.000000</td>\n",
       "      <td>1.000000</td>\n",
       "      <td>1.000000</td>\n",
       "      <td>1872.000000</td>\n",
       "      <td>1950.000000</td>\n",
       "      <td>0.000000</td>\n",
       "      <td>0.000000</td>\n",
       "      <td>...</td>\n",
       "      <td>0.000000</td>\n",
       "      <td>0.000000</td>\n",
       "      <td>0.000000</td>\n",
       "      <td>0.000000</td>\n",
       "      <td>0.000000</td>\n",
       "      <td>0.000000</td>\n",
       "      <td>0.000000</td>\n",
       "      <td>1.000000</td>\n",
       "      <td>2006.000000</td>\n",
       "      <td>34900.000000</td>\n",
       "    </tr>\n",
       "    <tr>\n",
       "      <th>25%</th>\n",
       "      <td>365.750000</td>\n",
       "      <td>20.000000</td>\n",
       "      <td>59.000000</td>\n",
       "      <td>7553.500000</td>\n",
       "      <td>5.000000</td>\n",
       "      <td>5.000000</td>\n",
       "      <td>1954.000000</td>\n",
       "      <td>1967.000000</td>\n",
       "      <td>0.000000</td>\n",
       "      <td>0.000000</td>\n",
       "      <td>...</td>\n",
       "      <td>0.000000</td>\n",
       "      <td>0.000000</td>\n",
       "      <td>0.000000</td>\n",
       "      <td>0.000000</td>\n",
       "      <td>0.000000</td>\n",
       "      <td>0.000000</td>\n",
       "      <td>0.000000</td>\n",
       "      <td>5.000000</td>\n",
       "      <td>2007.000000</td>\n",
       "      <td>129975.000000</td>\n",
       "    </tr>\n",
       "    <tr>\n",
       "      <th>50%</th>\n",
       "      <td>730.500000</td>\n",
       "      <td>50.000000</td>\n",
       "      <td>69.000000</td>\n",
       "      <td>9478.500000</td>\n",
       "      <td>6.000000</td>\n",
       "      <td>5.000000</td>\n",
       "      <td>1973.000000</td>\n",
       "      <td>1994.000000</td>\n",
       "      <td>0.000000</td>\n",
       "      <td>383.500000</td>\n",
       "      <td>...</td>\n",
       "      <td>0.000000</td>\n",
       "      <td>25.000000</td>\n",
       "      <td>0.000000</td>\n",
       "      <td>0.000000</td>\n",
       "      <td>0.000000</td>\n",
       "      <td>0.000000</td>\n",
       "      <td>0.000000</td>\n",
       "      <td>6.000000</td>\n",
       "      <td>2008.000000</td>\n",
       "      <td>163000.000000</td>\n",
       "    </tr>\n",
       "    <tr>\n",
       "      <th>75%</th>\n",
       "      <td>1095.250000</td>\n",
       "      <td>70.000000</td>\n",
       "      <td>80.000000</td>\n",
       "      <td>11601.500000</td>\n",
       "      <td>7.000000</td>\n",
       "      <td>6.000000</td>\n",
       "      <td>2000.000000</td>\n",
       "      <td>2004.000000</td>\n",
       "      <td>166.000000</td>\n",
       "      <td>712.250000</td>\n",
       "      <td>...</td>\n",
       "      <td>168.000000</td>\n",
       "      <td>68.000000</td>\n",
       "      <td>0.000000</td>\n",
       "      <td>0.000000</td>\n",
       "      <td>0.000000</td>\n",
       "      <td>0.000000</td>\n",
       "      <td>0.000000</td>\n",
       "      <td>8.000000</td>\n",
       "      <td>2009.000000</td>\n",
       "      <td>214000.000000</td>\n",
       "    </tr>\n",
       "    <tr>\n",
       "      <th>max</th>\n",
       "      <td>1460.000000</td>\n",
       "      <td>190.000000</td>\n",
       "      <td>313.000000</td>\n",
       "      <td>215245.000000</td>\n",
       "      <td>10.000000</td>\n",
       "      <td>9.000000</td>\n",
       "      <td>2010.000000</td>\n",
       "      <td>2010.000000</td>\n",
       "      <td>1600.000000</td>\n",
       "      <td>5644.000000</td>\n",
       "      <td>...</td>\n",
       "      <td>857.000000</td>\n",
       "      <td>547.000000</td>\n",
       "      <td>552.000000</td>\n",
       "      <td>508.000000</td>\n",
       "      <td>480.000000</td>\n",
       "      <td>738.000000</td>\n",
       "      <td>15500.000000</td>\n",
       "      <td>12.000000</td>\n",
       "      <td>2010.000000</td>\n",
       "      <td>755000.000000</td>\n",
       "    </tr>\n",
       "  </tbody>\n",
       "</table>\n",
       "<p>8 rows × 38 columns</p>\n",
       "</div>"
      ],
      "text/plain": [
       "                Id   MSSubClass  LotFrontage        LotArea  OverallQual  \\\n",
       "count  1460.000000  1460.000000  1201.000000    1460.000000  1460.000000   \n",
       "mean    730.500000    56.897260    70.049958   10516.828082     6.099315   \n",
       "std     421.610009    42.300571    24.284752    9981.264932     1.382997   \n",
       "min       1.000000    20.000000    21.000000    1300.000000     1.000000   \n",
       "25%     365.750000    20.000000    59.000000    7553.500000     5.000000   \n",
       "50%     730.500000    50.000000    69.000000    9478.500000     6.000000   \n",
       "75%    1095.250000    70.000000    80.000000   11601.500000     7.000000   \n",
       "max    1460.000000   190.000000   313.000000  215245.000000    10.000000   \n",
       "\n",
       "       OverallCond    YearBuilt  YearRemodAdd   MasVnrArea   BsmtFinSF1  ...  \\\n",
       "count  1460.000000  1460.000000   1460.000000  1452.000000  1460.000000  ...   \n",
       "mean      5.575342  1971.267808   1984.865753   103.685262   443.639726  ...   \n",
       "std       1.112799    30.202904     20.645407   181.066207   456.098091  ...   \n",
       "min       1.000000  1872.000000   1950.000000     0.000000     0.000000  ...   \n",
       "25%       5.000000  1954.000000   1967.000000     0.000000     0.000000  ...   \n",
       "50%       5.000000  1973.000000   1994.000000     0.000000   383.500000  ...   \n",
       "75%       6.000000  2000.000000   2004.000000   166.000000   712.250000  ...   \n",
       "max       9.000000  2010.000000   2010.000000  1600.000000  5644.000000  ...   \n",
       "\n",
       "        WoodDeckSF  OpenPorchSF  EnclosedPorch    3SsnPorch  ScreenPorch  \\\n",
       "count  1460.000000  1460.000000    1460.000000  1460.000000  1460.000000   \n",
       "mean     94.244521    46.660274      21.954110     3.409589    15.060959   \n",
       "std     125.338794    66.256028      61.119149    29.317331    55.757415   \n",
       "min       0.000000     0.000000       0.000000     0.000000     0.000000   \n",
       "25%       0.000000     0.000000       0.000000     0.000000     0.000000   \n",
       "50%       0.000000    25.000000       0.000000     0.000000     0.000000   \n",
       "75%     168.000000    68.000000       0.000000     0.000000     0.000000   \n",
       "max     857.000000   547.000000     552.000000   508.000000   480.000000   \n",
       "\n",
       "          PoolArea       MiscVal       MoSold       YrSold      SalePrice  \n",
       "count  1460.000000   1460.000000  1460.000000  1460.000000    1460.000000  \n",
       "mean      2.758904     43.489041     6.321918  2007.815753  180921.195890  \n",
       "std      40.177307    496.123024     2.703626     1.328095   79442.502883  \n",
       "min       0.000000      0.000000     1.000000  2006.000000   34900.000000  \n",
       "25%       0.000000      0.000000     5.000000  2007.000000  129975.000000  \n",
       "50%       0.000000      0.000000     6.000000  2008.000000  163000.000000  \n",
       "75%       0.000000      0.000000     8.000000  2009.000000  214000.000000  \n",
       "max     738.000000  15500.000000    12.000000  2010.000000  755000.000000  \n",
       "\n",
       "[8 rows x 38 columns]"
      ]
     },
     "execution_count": 5,
     "metadata": {},
     "output_type": "execute_result"
    }
   ],
   "source": [
    "house.describe()"
   ]
  },
  {
   "cell_type": "code",
   "execution_count": 6,
   "id": "a00af704",
   "metadata": {},
   "outputs": [],
   "source": [
    "Id = house[\"Id\"]"
   ]
  },
  {
   "cell_type": "code",
   "execution_count": 7,
   "id": "bb765023",
   "metadata": {
    "scrolled": true
   },
   "outputs": [
    {
     "name": "stdout",
     "output_type": "stream",
     "text": [
      "<class 'pandas.core.frame.DataFrame'>\n",
      "RangeIndex: 1460 entries, 0 to 1459\n",
      "Data columns (total 81 columns):\n",
      " #   Column         Non-Null Count  Dtype  \n",
      "---  ------         --------------  -----  \n",
      " 0   Id             1460 non-null   int64  \n",
      " 1   MSSubClass     1460 non-null   int64  \n",
      " 2   MSZoning       1460 non-null   object \n",
      " 3   LotFrontage    1201 non-null   float64\n",
      " 4   LotArea        1460 non-null   int64  \n",
      " 5   Street         1460 non-null   object \n",
      " 6   Alley          91 non-null     object \n",
      " 7   LotShape       1460 non-null   object \n",
      " 8   LandContour    1460 non-null   object \n",
      " 9   Utilities      1460 non-null   object \n",
      " 10  LotConfig      1460 non-null   object \n",
      " 11  LandSlope      1460 non-null   object \n",
      " 12  Neighborhood   1460 non-null   object \n",
      " 13  Condition1     1460 non-null   object \n",
      " 14  Condition2     1460 non-null   object \n",
      " 15  BldgType       1460 non-null   object \n",
      " 16  HouseStyle     1460 non-null   object \n",
      " 17  OverallQual    1460 non-null   int64  \n",
      " 18  OverallCond    1460 non-null   int64  \n",
      " 19  YearBuilt      1460 non-null   int64  \n",
      " 20  YearRemodAdd   1460 non-null   int64  \n",
      " 21  RoofStyle      1460 non-null   object \n",
      " 22  RoofMatl       1460 non-null   object \n",
      " 23  Exterior1st    1460 non-null   object \n",
      " 24  Exterior2nd    1460 non-null   object \n",
      " 25  MasVnrType     1452 non-null   object \n",
      " 26  MasVnrArea     1452 non-null   float64\n",
      " 27  ExterQual      1460 non-null   object \n",
      " 28  ExterCond      1460 non-null   object \n",
      " 29  Foundation     1460 non-null   object \n",
      " 30  BsmtQual       1423 non-null   object \n",
      " 31  BsmtCond       1423 non-null   object \n",
      " 32  BsmtExposure   1422 non-null   object \n",
      " 33  BsmtFinType1   1423 non-null   object \n",
      " 34  BsmtFinSF1     1460 non-null   int64  \n",
      " 35  BsmtFinType2   1422 non-null   object \n",
      " 36  BsmtFinSF2     1460 non-null   int64  \n",
      " 37  BsmtUnfSF      1460 non-null   int64  \n",
      " 38  TotalBsmtSF    1460 non-null   int64  \n",
      " 39  Heating        1460 non-null   object \n",
      " 40  HeatingQC      1460 non-null   object \n",
      " 41  CentralAir     1460 non-null   object \n",
      " 42  Electrical     1459 non-null   object \n",
      " 43  1stFlrSF       1460 non-null   int64  \n",
      " 44  2ndFlrSF       1460 non-null   int64  \n",
      " 45  LowQualFinSF   1460 non-null   int64  \n",
      " 46  GrLivArea      1460 non-null   int64  \n",
      " 47  BsmtFullBath   1460 non-null   int64  \n",
      " 48  BsmtHalfBath   1460 non-null   int64  \n",
      " 49  FullBath       1460 non-null   int64  \n",
      " 50  HalfBath       1460 non-null   int64  \n",
      " 51  BedroomAbvGr   1460 non-null   int64  \n",
      " 52  KitchenAbvGr   1460 non-null   int64  \n",
      " 53  KitchenQual    1460 non-null   object \n",
      " 54  TotRmsAbvGrd   1460 non-null   int64  \n",
      " 55  Functional     1460 non-null   object \n",
      " 56  Fireplaces     1460 non-null   int64  \n",
      " 57  FireplaceQu    770 non-null    object \n",
      " 58  GarageType     1379 non-null   object \n",
      " 59  GarageYrBlt    1379 non-null   float64\n",
      " 60  GarageFinish   1379 non-null   object \n",
      " 61  GarageCars     1460 non-null   int64  \n",
      " 62  GarageArea     1460 non-null   int64  \n",
      " 63  GarageQual     1379 non-null   object \n",
      " 64  GarageCond     1379 non-null   object \n",
      " 65  PavedDrive     1460 non-null   object \n",
      " 66  WoodDeckSF     1460 non-null   int64  \n",
      " 67  OpenPorchSF    1460 non-null   int64  \n",
      " 68  EnclosedPorch  1460 non-null   int64  \n",
      " 69  3SsnPorch      1460 non-null   int64  \n",
      " 70  ScreenPorch    1460 non-null   int64  \n",
      " 71  PoolArea       1460 non-null   int64  \n",
      " 72  PoolQC         7 non-null      object \n",
      " 73  Fence          281 non-null    object \n",
      " 74  MiscFeature    54 non-null     object \n",
      " 75  MiscVal        1460 non-null   int64  \n",
      " 76  MoSold         1460 non-null   int64  \n",
      " 77  YrSold         1460 non-null   int64  \n",
      " 78  SaleType       1460 non-null   object \n",
      " 79  SaleCondition  1460 non-null   object \n",
      " 80  SalePrice      1460 non-null   int64  \n",
      "dtypes: float64(3), int64(35), object(43)\n",
      "memory usage: 924.0+ KB\n"
     ]
    }
   ],
   "source": [
    "house.info()"
   ]
  },
  {
   "cell_type": "code",
   "execution_count": 8,
   "id": "ad6284f2",
   "metadata": {},
   "outputs": [],
   "source": [
    "#We could see from the above that there are some null values in the data"
   ]
  },
  {
   "cell_type": "code",
   "execution_count": 9,
   "id": "4dd5db63",
   "metadata": {},
   "outputs": [
    {
     "data": {
      "text/plain": [
       "(1460, 81)"
      ]
     },
     "execution_count": 9,
     "metadata": {},
     "output_type": "execute_result"
    }
   ],
   "source": [
    "house.shape"
   ]
  },
  {
   "cell_type": "code",
   "execution_count": 10,
   "id": "3bcd54c5",
   "metadata": {
    "scrolled": false
   },
   "outputs": [
    {
     "name": "stdout",
     "output_type": "stream",
     "text": [
      "LotFrontage     17.73972602739726\n",
      "Alley     93.76712328767123\n",
      "MasVnrType     0.547945205479452\n",
      "MasVnrArea     0.547945205479452\n",
      "BsmtQual     2.5342465753424657\n",
      "BsmtCond     2.5342465753424657\n",
      "BsmtExposure     2.6027397260273974\n",
      "BsmtFinType1     2.5342465753424657\n",
      "BsmtFinType2     2.6027397260273974\n",
      "Electrical     0.0684931506849315\n",
      "FireplaceQu     47.26027397260274\n",
      "GarageType     5.5479452054794525\n",
      "GarageYrBlt     5.5479452054794525\n",
      "GarageFinish     5.5479452054794525\n",
      "GarageQual     5.5479452054794525\n",
      "GarageCond     5.5479452054794525\n",
      "PoolQC     99.52054794520548\n",
      "Fence     80.75342465753424\n",
      "MiscFeature     96.30136986301369\n"
     ]
    }
   ],
   "source": [
    "#Checking for the null values\n",
    "pd.set_option('display.max_rows', None)\n",
    "\n",
    "house.columns[house.isnull().any()]\n",
    "for i in house.columns[house.isnull().any()]:\n",
    "    if house[i].isna().sum()/len(house[i])*100>0:\n",
    "        print ('{0}     {1}'.format(i, house[i].isna().sum()/len(house[i])*100))"
   ]
  },
  {
   "cell_type": "code",
   "execution_count": 11,
   "id": "4cd7cf02",
   "metadata": {},
   "outputs": [
    {
     "data": {
      "text/plain": [
       "'\"\"#Doing EDA using Sweetviz \\nadvert_report = sv.analyze(house)\\nadvert_report.show_html(\\'Advertising.html\\')'"
      ]
     },
     "execution_count": 11,
     "metadata": {},
     "output_type": "execute_result"
    }
   ],
   "source": [
    "\"\"\"\"\"#Doing EDA using Sweetviz \n",
    "advert_report = sv.analyze(house)\n",
    "advert_report.show_html('Advertising.html')\"\"\"\"\""
   ]
  },
  {
   "cell_type": "code",
   "execution_count": 12,
   "id": "bed8bf8a",
   "metadata": {},
   "outputs": [
    {
     "data": {
      "image/png": "[encoded data removed]",
      "text/plain": [
       "<Figure size 360x360 with 1 Axes>"
      ]
     },
     "metadata": {
      "needs_background": "light"
     },
     "output_type": "display_data"
    }
   ],
   "source": [
    "#Plot showing skewed data in target variable\n",
    "sns.displot(house[\"SalePrice\"])\n",
    "plt.show()"
   ]
  },
  {
   "cell_type": "code",
   "execution_count": 13,
   "id": "5600dd11",
   "metadata": {},
   "outputs": [],
   "source": [
    "#Transforming the target variable \"SalePrice\" as it having skewed data using logarithmic transformation\n",
    "transformed = house[\"SalePrice\"].transform(np.log)"
   ]
  },
  {
   "cell_type": "code",
   "execution_count": 14,
   "id": "9a1b1424",
   "metadata": {},
   "outputs": [],
   "source": [
    "house[\"SalePrice\"] = transformed"
   ]
  },
  {
   "cell_type": "code",
   "execution_count": 15,
   "id": "9ac74c6a",
   "metadata": {
    "scrolled": true
   },
   "outputs": [
    {
     "data": {
      "text/html": [
       "<div>\n",
       "<style scoped>\n",
       "    .dataframe tbody tr th:only-of-type {\n",
       "        vertical-align: middle;\n",
       "    }\n",
       "\n",
       "    .dataframe tbody tr th {\n",
       "        vertical-align: top;\n",
       "    }\n",
       "\n",
       "    .dataframe thead th {\n",
       "        text-align: right;\n",
       "    }\n",
       "</style>\n",
       "<table border=\"1\" class=\"dataframe\">\n",
       "  <thead>\n",
       "    <tr style=\"text-align: right;\">\n",
       "      <th></th>\n",
       "      <th>Id</th>\n",
       "      <th>MSSubClass</th>\n",
       "      <th>MSZoning</th>\n",
       "      <th>LotFrontage</th>\n",
       "      <th>LotArea</th>\n",
       "      <th>Street</th>\n",
       "      <th>Alley</th>\n",
       "      <th>LotShape</th>\n",
       "      <th>LandContour</th>\n",
       "      <th>Utilities</th>\n",
       "      <th>...</th>\n",
       "      <th>PoolArea</th>\n",
       "      <th>PoolQC</th>\n",
       "      <th>Fence</th>\n",
       "      <th>MiscFeature</th>\n",
       "      <th>MiscVal</th>\n",
       "      <th>MoSold</th>\n",
       "      <th>YrSold</th>\n",
       "      <th>SaleType</th>\n",
       "      <th>SaleCondition</th>\n",
       "      <th>SalePrice</th>\n",
       "    </tr>\n",
       "  </thead>\n",
       "  <tbody>\n",
       "    <tr>\n",
       "      <th>0</th>\n",
       "      <td>1</td>\n",
       "      <td>60</td>\n",
       "      <td>RL</td>\n",
       "      <td>65.0</td>\n",
       "      <td>8450</td>\n",
       "      <td>Pave</td>\n",
       "      <td>NaN</td>\n",
       "      <td>Reg</td>\n",
       "      <td>Lvl</td>\n",
       "      <td>AllPub</td>\n",
       "      <td>...</td>\n",
       "      <td>0</td>\n",
       "      <td>NaN</td>\n",
       "      <td>NaN</td>\n",
       "      <td>NaN</td>\n",
       "      <td>0</td>\n",
       "      <td>2</td>\n",
       "      <td>2008</td>\n",
       "      <td>WD</td>\n",
       "      <td>Normal</td>\n",
       "      <td>12.247694</td>\n",
       "    </tr>\n",
       "    <tr>\n",
       "      <th>1</th>\n",
       "      <td>2</td>\n",
       "      <td>20</td>\n",
       "      <td>RL</td>\n",
       "      <td>80.0</td>\n",
       "      <td>9600</td>\n",
       "      <td>Pave</td>\n",
       "      <td>NaN</td>\n",
       "      <td>Reg</td>\n",
       "      <td>Lvl</td>\n",
       "      <td>AllPub</td>\n",
       "      <td>...</td>\n",
       "      <td>0</td>\n",
       "      <td>NaN</td>\n",
       "      <td>NaN</td>\n",
       "      <td>NaN</td>\n",
       "      <td>0</td>\n",
       "      <td>5</td>\n",
       "      <td>2007</td>\n",
       "      <td>WD</td>\n",
       "      <td>Normal</td>\n",
       "      <td>12.109011</td>\n",
       "    </tr>\n",
       "    <tr>\n",
       "      <th>2</th>\n",
       "      <td>3</td>\n",
       "      <td>60</td>\n",
       "      <td>RL</td>\n",
       "      <td>68.0</td>\n",
       "      <td>11250</td>\n",
       "      <td>Pave</td>\n",
       "      <td>NaN</td>\n",
       "      <td>IR1</td>\n",
       "      <td>Lvl</td>\n",
       "      <td>AllPub</td>\n",
       "      <td>...</td>\n",
       "      <td>0</td>\n",
       "      <td>NaN</td>\n",
       "      <td>NaN</td>\n",
       "      <td>NaN</td>\n",
       "      <td>0</td>\n",
       "      <td>9</td>\n",
       "      <td>2008</td>\n",
       "      <td>WD</td>\n",
       "      <td>Normal</td>\n",
       "      <td>12.317167</td>\n",
       "    </tr>\n",
       "    <tr>\n",
       "      <th>3</th>\n",
       "      <td>4</td>\n",
       "      <td>70</td>\n",
       "      <td>RL</td>\n",
       "      <td>60.0</td>\n",
       "      <td>9550</td>\n",
       "      <td>Pave</td>\n",
       "      <td>NaN</td>\n",
       "      <td>IR1</td>\n",
       "      <td>Lvl</td>\n",
       "      <td>AllPub</td>\n",
       "      <td>...</td>\n",
       "      <td>0</td>\n",
       "      <td>NaN</td>\n",
       "      <td>NaN</td>\n",
       "      <td>NaN</td>\n",
       "      <td>0</td>\n",
       "      <td>2</td>\n",
       "      <td>2006</td>\n",
       "      <td>WD</td>\n",
       "      <td>Abnorml</td>\n",
       "      <td>11.849398</td>\n",
       "    </tr>\n",
       "    <tr>\n",
       "      <th>4</th>\n",
       "      <td>5</td>\n",
       "      <td>60</td>\n",
       "      <td>RL</td>\n",
       "      <td>84.0</td>\n",
       "      <td>14260</td>\n",
       "      <td>Pave</td>\n",
       "      <td>NaN</td>\n",
       "      <td>IR1</td>\n",
       "      <td>Lvl</td>\n",
       "      <td>AllPub</td>\n",
       "      <td>...</td>\n",
       "      <td>0</td>\n",
       "      <td>NaN</td>\n",
       "      <td>NaN</td>\n",
       "      <td>NaN</td>\n",
       "      <td>0</td>\n",
       "      <td>12</td>\n",
       "      <td>2008</td>\n",
       "      <td>WD</td>\n",
       "      <td>Normal</td>\n",
       "      <td>12.429216</td>\n",
       "    </tr>\n",
       "  </tbody>\n",
       "</table>\n",
       "<p>5 rows × 81 columns</p>\n",
       "</div>"
      ],
      "text/plain": [
       "   Id  MSSubClass MSZoning  LotFrontage  LotArea Street Alley LotShape  \\\n",
       "0   1          60       RL         65.0     8450   Pave   NaN      Reg   \n",
       "1   2          20       RL         80.0     9600   Pave   NaN      Reg   \n",
       "2   3          60       RL         68.0    11250   Pave   NaN      IR1   \n",
       "3   4          70       RL         60.0     9550   Pave   NaN      IR1   \n",
       "4   5          60       RL         84.0    14260   Pave   NaN      IR1   \n",
       "\n",
       "  LandContour Utilities  ... PoolArea PoolQC Fence MiscFeature MiscVal MoSold  \\\n",
       "0         Lvl    AllPub  ...        0    NaN   NaN         NaN       0      2   \n",
       "1         Lvl    AllPub  ...        0    NaN   NaN         NaN       0      5   \n",
       "2         Lvl    AllPub  ...        0    NaN   NaN         NaN       0      9   \n",
       "3         Lvl    AllPub  ...        0    NaN   NaN         NaN       0      2   \n",
       "4         Lvl    AllPub  ...        0    NaN   NaN         NaN       0     12   \n",
       "\n",
       "  YrSold  SaleType  SaleCondition  SalePrice  \n",
       "0   2008        WD         Normal  12.247694  \n",
       "1   2007        WD         Normal  12.109011  \n",
       "2   2008        WD         Normal  12.317167  \n",
       "3   2006        WD        Abnorml  11.849398  \n",
       "4   2008        WD         Normal  12.429216  \n",
       "\n",
       "[5 rows x 81 columns]"
      ]
     },
     "execution_count": 15,
     "metadata": {},
     "output_type": "execute_result"
    }
   ],
   "source": [
    "house.head()"
   ]
  },
  {
   "cell_type": "code",
   "execution_count": 16,
   "id": "6a86fbed",
   "metadata": {},
   "outputs": [
    {
     "data": {
      "image/png": "[encoded data removed]",
      "text/plain": [
       "<Figure size 360x360 with 1 Axes>"
      ]
     },
     "metadata": {
      "needs_background": "light"
     },
     "output_type": "display_data"
    }
   ],
   "source": [
    "#After transformation\n",
    "sns.displot(house[\"SalePrice\"])\n",
    "plt.show()"
   ]
  },
  {
   "cell_type": "code",
   "execution_count": 17,
   "id": "7c03ea7f",
   "metadata": {},
   "outputs": [],
   "source": [
    "#After the EDA we could see many columns are having missing values more than 50% we removing those value which we cannot even try to \n",
    "#impute with\n",
    "# also there are imbalanced columns with like 80% pointing to a same value we will be removing those columns as well\n",
    "#We are dropping the ID columns as well there is no much importance of it.\n",
    "#Some values are hvaing Na values like in PoolQc which means there is no pool in the property such values are also removed as it is having skewed data\n",
    "droplist = [\"Id\",\"Street\",\"Alley\",\"LandContour\",\"Utilities\",\"LandSlope\",\"Condition1\",\"Condition2\",\"BldgType\",\"RoofStyle\",\"RoofMatl\",\"ExterCond\",\n",
    "\"BsmtCond\",\"BsmtFinType2\",\"BsmtFinSF2\",\"Heating\",\"CentralAir\",\"Electrical\",\"LowQualFinSF\",\"BsmtHalfBath\",\"KitchenAbvGr\",\"Functional\",\n",
    "\"GarageQual\",\"GarageCond\",\"PavedDrive\",\"EnclosedPorch\",\"3SsnPorch\",\"ScreenPorch\",\"PoolArea\",\"PoolQC\",\"Fence\",\"MiscFeature\",\"MiscVal\",\n",
    "\"SaleType\",\"SaleCondition\"]\n",
    "for i in droplist:\n",
    "    house = house.drop(i,axis=1)"
   ]
  },
  {
   "cell_type": "code",
   "execution_count": 18,
   "id": "99d16f34",
   "metadata": {},
   "outputs": [
    {
     "data": {
      "text/plain": [
       "(1460, 46)"
      ]
     },
     "execution_count": 18,
     "metadata": {},
     "output_type": "execute_result"
    }
   ],
   "source": [
    "house.shape"
   ]
  },
  {
   "cell_type": "code",
   "execution_count": 19,
   "id": "d85ec145",
   "metadata": {},
   "outputs": [
    {
     "data": {
      "text/plain": [
       "Index(['LotFrontage', 'MasVnrType', 'MasVnrArea', 'BsmtQual', 'BsmtExposure',\n",
       "       'BsmtFinType1', 'FireplaceQu', 'GarageType', 'GarageYrBlt',\n",
       "       'GarageFinish'],\n",
       "      dtype='object')"
      ]
     },
     "execution_count": 19,
     "metadata": {},
     "output_type": "execute_result"
    }
   ],
   "source": [
    "house.columns[house.isnull().any()]"
   ]
  },
  {
   "cell_type": "code",
   "execution_count": 20,
   "id": "b868fb3c",
   "metadata": {},
   "outputs": [],
   "source": [
    "#Imputing numerical values with mean and categorical values with word \"Unknown\"\n",
    "house = house.apply(lambda x: x.fillna(x.mean()) if x.dtype.kind in 'biufc' else x.fillna(\"Unknown\"))"
   ]
  },
  {
   "cell_type": "code",
   "execution_count": 21,
   "id": "4e8eff80",
   "metadata": {},
   "outputs": [
    {
     "data": {
      "text/plain": [
       "Index([], dtype='object')"
      ]
     },
     "execution_count": 21,
     "metadata": {},
     "output_type": "execute_result"
    }
   ],
   "source": [
    "#Checking null values after imputation\n",
    "house.columns[house.isnull().any()]"
   ]
  },
  {
   "cell_type": "code",
   "execution_count": null,
   "id": "de6d7a02",
   "metadata": {},
   "outputs": [],
   "source": []
  },
  {
   "cell_type": "code",
   "execution_count": 22,
   "id": "005e0d8e",
   "metadata": {
    "scrolled": true
   },
   "outputs": [
    {
     "data": {
      "image/png": "[encoded data removed]",
      "text/plain": [
       "<Figure size 864x576 with 2 Axes>"
      ]
     },
     "metadata": {
      "needs_background": "light"
     },
     "output_type": "display_data"
    }
   ],
   "source": [
    "#Ploting the correlation of features,annot_kws={'size': 7} this adjusts the size of annot,fmt='.1f' this rounds the size of the annot\n",
    "#We can see the same correlation as association in Sweetviz chart\n",
    "plt.figure (figsize= (12,8))\n",
    "sns.heatmap(house.corr(),cmap=\"YlGnBu\", annot=True,annot_kws={'size': 7},fmt='.1f')\n",
    "plt.show()"
   ]
  },
  {
   "cell_type": "code",
   "execution_count": 23,
   "id": "656c5df0",
   "metadata": {},
   "outputs": [],
   "source": [
    "#We are not handling colinearity by dropping those columns as we will look how Lasso handles it"
   ]
  },
  {
   "cell_type": "code",
   "execution_count": 24,
   "id": "3a5d023d",
   "metadata": {},
   "outputs": [],
   "source": [
    "#Creating dummy variables\n",
    "house = pd.get_dummies(house,drop_first=True)"
   ]
  },
  {
   "cell_type": "code",
   "execution_count": 25,
   "id": "5982c7db",
   "metadata": {},
   "outputs": [
    {
     "data": {
      "text/plain": [
       "(1460, 146)"
      ]
     },
     "execution_count": 25,
     "metadata": {},
     "output_type": "execute_result"
    }
   ],
   "source": [
    "house.shape"
   ]
  },
  {
   "cell_type": "code",
   "execution_count": 26,
   "id": "ee7450cc",
   "metadata": {},
   "outputs": [],
   "source": [
    "#Now data handling mostly done so will Split the data for model building\n",
    "df_train, df_test = train_test_split(house,train_size=.8, random_state=100)"
   ]
  },
  {
   "cell_type": "code",
   "execution_count": 27,
   "id": "ca2586be",
   "metadata": {},
   "outputs": [
    {
     "data": {
      "text/plain": [
       "(1168, 146)"
      ]
     },
     "execution_count": 27,
     "metadata": {},
     "output_type": "execute_result"
    }
   ],
   "source": [
    "df_train.shape"
   ]
  },
  {
   "cell_type": "code",
   "execution_count": 28,
   "id": "68394f93",
   "metadata": {
    "scrolled": true
   },
   "outputs": [
    {
     "data": {
      "text/plain": [
       "(292, 146)"
      ]
     },
     "execution_count": 28,
     "metadata": {},
     "output_type": "execute_result"
    }
   ],
   "source": [
    "df_test.shape"
   ]
  },
  {
   "cell_type": "code",
   "execution_count": 29,
   "id": "2546d38f",
   "metadata": {},
   "outputs": [
    {
     "data": {
      "text/html": [
       "<div>\n",
       "<style scoped>\n",
       "    .dataframe tbody tr th:only-of-type {\n",
       "        vertical-align: middle;\n",
       "    }\n",
       "\n",
       "    .dataframe tbody tr th {\n",
       "        vertical-align: top;\n",
       "    }\n",
       "\n",
       "    .dataframe thead th {\n",
       "        text-align: right;\n",
       "    }\n",
       "</style>\n",
       "<table border=\"1\" class=\"dataframe\">\n",
       "  <thead>\n",
       "    <tr style=\"text-align: right;\">\n",
       "      <th></th>\n",
       "      <th>MSSubClass</th>\n",
       "      <th>LotFrontage</th>\n",
       "      <th>LotArea</th>\n",
       "      <th>OverallQual</th>\n",
       "      <th>OverallCond</th>\n",
       "      <th>YearBuilt</th>\n",
       "      <th>YearRemodAdd</th>\n",
       "      <th>MasVnrArea</th>\n",
       "      <th>BsmtFinSF1</th>\n",
       "      <th>BsmtUnfSF</th>\n",
       "      <th>...</th>\n",
       "      <th>FireplaceQu_Unknown</th>\n",
       "      <th>GarageType_Attchd</th>\n",
       "      <th>GarageType_Basment</th>\n",
       "      <th>GarageType_BuiltIn</th>\n",
       "      <th>GarageType_CarPort</th>\n",
       "      <th>GarageType_Detchd</th>\n",
       "      <th>GarageType_Unknown</th>\n",
       "      <th>GarageFinish_RFn</th>\n",
       "      <th>GarageFinish_Unf</th>\n",
       "      <th>GarageFinish_Unknown</th>\n",
       "    </tr>\n",
       "  </thead>\n",
       "  <tbody>\n",
       "    <tr>\n",
       "      <th>133</th>\n",
       "      <td>20</td>\n",
       "      <td>70.049958</td>\n",
       "      <td>6853</td>\n",
       "      <td>8</td>\n",
       "      <td>5</td>\n",
       "      <td>2001</td>\n",
       "      <td>2002</td>\n",
       "      <td>136.0</td>\n",
       "      <td>1005</td>\n",
       "      <td>262</td>\n",
       "      <td>...</td>\n",
       "      <td>1</td>\n",
       "      <td>1</td>\n",
       "      <td>0</td>\n",
       "      <td>0</td>\n",
       "      <td>0</td>\n",
       "      <td>0</td>\n",
       "      <td>0</td>\n",
       "      <td>0</td>\n",
       "      <td>0</td>\n",
       "      <td>0</td>\n",
       "    </tr>\n",
       "    <tr>\n",
       "      <th>290</th>\n",
       "      <td>60</td>\n",
       "      <td>120.000000</td>\n",
       "      <td>15611</td>\n",
       "      <td>8</td>\n",
       "      <td>5</td>\n",
       "      <td>2006</td>\n",
       "      <td>2006</td>\n",
       "      <td>0.0</td>\n",
       "      <td>0</td>\n",
       "      <td>1079</td>\n",
       "      <td>...</td>\n",
       "      <td>0</td>\n",
       "      <td>1</td>\n",
       "      <td>0</td>\n",
       "      <td>0</td>\n",
       "      <td>0</td>\n",
       "      <td>0</td>\n",
       "      <td>0</td>\n",
       "      <td>1</td>\n",
       "      <td>0</td>\n",
       "      <td>0</td>\n",
       "    </tr>\n",
       "    <tr>\n",
       "      <th>24</th>\n",
       "      <td>20</td>\n",
       "      <td>70.049958</td>\n",
       "      <td>8246</td>\n",
       "      <td>5</td>\n",
       "      <td>8</td>\n",
       "      <td>1968</td>\n",
       "      <td>2001</td>\n",
       "      <td>0.0</td>\n",
       "      <td>188</td>\n",
       "      <td>204</td>\n",
       "      <td>...</td>\n",
       "      <td>0</td>\n",
       "      <td>1</td>\n",
       "      <td>0</td>\n",
       "      <td>0</td>\n",
       "      <td>0</td>\n",
       "      <td>0</td>\n",
       "      <td>0</td>\n",
       "      <td>0</td>\n",
       "      <td>1</td>\n",
       "      <td>0</td>\n",
       "    </tr>\n",
       "    <tr>\n",
       "      <th>1093</th>\n",
       "      <td>20</td>\n",
       "      <td>71.000000</td>\n",
       "      <td>9230</td>\n",
       "      <td>5</td>\n",
       "      <td>8</td>\n",
       "      <td>1965</td>\n",
       "      <td>1998</td>\n",
       "      <td>166.0</td>\n",
       "      <td>661</td>\n",
       "      <td>203</td>\n",
       "      <td>...</td>\n",
       "      <td>1</td>\n",
       "      <td>0</td>\n",
       "      <td>0</td>\n",
       "      <td>0</td>\n",
       "      <td>0</td>\n",
       "      <td>1</td>\n",
       "      <td>0</td>\n",
       "      <td>0</td>\n",
       "      <td>1</td>\n",
       "      <td>0</td>\n",
       "    </tr>\n",
       "    <tr>\n",
       "      <th>1288</th>\n",
       "      <td>120</td>\n",
       "      <td>40.000000</td>\n",
       "      <td>5664</td>\n",
       "      <td>8</td>\n",
       "      <td>5</td>\n",
       "      <td>2000</td>\n",
       "      <td>2000</td>\n",
       "      <td>0.0</td>\n",
       "      <td>1158</td>\n",
       "      <td>343</td>\n",
       "      <td>...</td>\n",
       "      <td>0</td>\n",
       "      <td>1</td>\n",
       "      <td>0</td>\n",
       "      <td>0</td>\n",
       "      <td>0</td>\n",
       "      <td>0</td>\n",
       "      <td>0</td>\n",
       "      <td>0</td>\n",
       "      <td>0</td>\n",
       "      <td>0</td>\n",
       "    </tr>\n",
       "  </tbody>\n",
       "</table>\n",
       "<p>5 rows × 146 columns</p>\n",
       "</div>"
      ],
      "text/plain": [
       "      MSSubClass  LotFrontage  LotArea  OverallQual  OverallCond  YearBuilt  \\\n",
       "133           20    70.049958     6853            8            5       2001   \n",
       "290           60   120.000000    15611            8            5       2006   \n",
       "24            20    70.049958     8246            5            8       1968   \n",
       "1093          20    71.000000     9230            5            8       1965   \n",
       "1288         120    40.000000     5664            8            5       2000   \n",
       "\n",
       "      YearRemodAdd  MasVnrArea  BsmtFinSF1  BsmtUnfSF  ...  \\\n",
       "133           2002       136.0        1005        262  ...   \n",
       "290           2006         0.0           0       1079  ...   \n",
       "24            2001         0.0         188        204  ...   \n",
       "1093          1998       166.0         661        203  ...   \n",
       "1288          2000         0.0        1158        343  ...   \n",
       "\n",
       "      FireplaceQu_Unknown  GarageType_Attchd  GarageType_Basment  \\\n",
       "133                     1                  1                   0   \n",
       "290                     0                  1                   0   \n",
       "24                      0                  1                   0   \n",
       "1093                    1                  0                   0   \n",
       "1288                    0                  1                   0   \n",
       "\n",
       "      GarageType_BuiltIn  GarageType_CarPort  GarageType_Detchd  \\\n",
       "133                    0                   0                  0   \n",
       "290                    0                   0                  0   \n",
       "24                     0                   0                  0   \n",
       "1093                   0                   0                  1   \n",
       "1288                   0                   0                  0   \n",
       "\n",
       "      GarageType_Unknown  GarageFinish_RFn  GarageFinish_Unf  \\\n",
       "133                    0                 0                 0   \n",
       "290                    0                 1                 0   \n",
       "24                     0                 0                 1   \n",
       "1093                   0                 0                 1   \n",
       "1288                   0                 0                 0   \n",
       "\n",
       "      GarageFinish_Unknown  \n",
       "133                      0  \n",
       "290                      0  \n",
       "24                       0  \n",
       "1093                     0  \n",
       "1288                     0  \n",
       "\n",
       "[5 rows x 146 columns]"
      ]
     },
     "execution_count": 29,
     "metadata": {},
     "output_type": "execute_result"
    }
   ],
   "source": [
    "df_train.head()"
   ]
  },
  {
   "cell_type": "code",
   "execution_count": 30,
   "id": "d2f45f05",
   "metadata": {},
   "outputs": [],
   "source": [
    "#Now we will scale the data\n",
    "# fit scaler on training data\n",
    "scaler = MinMaxScaler()\n",
    "\n",
    "# transform training data\n",
    "df_train = pd.DataFrame(scaler.fit_transform(df_train),columns=df_train.columns)\n",
    "\n",
    "# transform testing data\n",
    "df_test = pd.DataFrame(scaler.fit_transform(df_test),columns=df_test.columns)\n"
   ]
  },
  {
   "cell_type": "code",
   "execution_count": 31,
   "id": "cafe12ea",
   "metadata": {},
   "outputs": [
    {
     "data": {
      "text/html": [
       "<div>\n",
       "<style scoped>\n",
       "    .dataframe tbody tr th:only-of-type {\n",
       "        vertical-align: middle;\n",
       "    }\n",
       "\n",
       "    .dataframe tbody tr th {\n",
       "        vertical-align: top;\n",
       "    }\n",
       "\n",
       "    .dataframe thead th {\n",
       "        text-align: right;\n",
       "    }\n",
       "</style>\n",
       "<table border=\"1\" class=\"dataframe\">\n",
       "  <thead>\n",
       "    <tr style=\"text-align: right;\">\n",
       "      <th></th>\n",
       "      <th>MSSubClass</th>\n",
       "      <th>LotFrontage</th>\n",
       "      <th>LotArea</th>\n",
       "      <th>OverallQual</th>\n",
       "      <th>OverallCond</th>\n",
       "      <th>YearBuilt</th>\n",
       "      <th>YearRemodAdd</th>\n",
       "      <th>MasVnrArea</th>\n",
       "      <th>BsmtFinSF1</th>\n",
       "      <th>BsmtUnfSF</th>\n",
       "      <th>...</th>\n",
       "      <th>FireplaceQu_Unknown</th>\n",
       "      <th>GarageType_Attchd</th>\n",
       "      <th>GarageType_Basment</th>\n",
       "      <th>GarageType_BuiltIn</th>\n",
       "      <th>GarageType_CarPort</th>\n",
       "      <th>GarageType_Detchd</th>\n",
       "      <th>GarageType_Unknown</th>\n",
       "      <th>GarageFinish_RFn</th>\n",
       "      <th>GarageFinish_Unf</th>\n",
       "      <th>GarageFinish_Unknown</th>\n",
       "    </tr>\n",
       "  </thead>\n",
       "  <tbody>\n",
       "    <tr>\n",
       "      <th>0</th>\n",
       "      <td>0.000000</td>\n",
       "      <td>0.167979</td>\n",
       "      <td>0.025955</td>\n",
       "      <td>0.777778</td>\n",
       "      <td>0.500</td>\n",
       "      <td>0.934783</td>\n",
       "      <td>0.866667</td>\n",
       "      <td>0.08500</td>\n",
       "      <td>0.178065</td>\n",
       "      <td>0.112158</td>\n",
       "      <td>...</td>\n",
       "      <td>1.0</td>\n",
       "      <td>1.0</td>\n",
       "      <td>0.0</td>\n",
       "      <td>0.0</td>\n",
       "      <td>0.0</td>\n",
       "      <td>0.0</td>\n",
       "      <td>0.0</td>\n",
       "      <td>0.0</td>\n",
       "      <td>0.0</td>\n",
       "      <td>0.0</td>\n",
       "    </tr>\n",
       "    <tr>\n",
       "      <th>1</th>\n",
       "      <td>0.235294</td>\n",
       "      <td>0.339041</td>\n",
       "      <td>0.066891</td>\n",
       "      <td>0.777778</td>\n",
       "      <td>0.500</td>\n",
       "      <td>0.971014</td>\n",
       "      <td>0.933333</td>\n",
       "      <td>0.00000</td>\n",
       "      <td>0.000000</td>\n",
       "      <td>0.461901</td>\n",
       "      <td>...</td>\n",
       "      <td>0.0</td>\n",
       "      <td>1.0</td>\n",
       "      <td>0.0</td>\n",
       "      <td>0.0</td>\n",
       "      <td>0.0</td>\n",
       "      <td>0.0</td>\n",
       "      <td>0.0</td>\n",
       "      <td>1.0</td>\n",
       "      <td>0.0</td>\n",
       "      <td>0.0</td>\n",
       "    </tr>\n",
       "    <tr>\n",
       "      <th>2</th>\n",
       "      <td>0.000000</td>\n",
       "      <td>0.167979</td>\n",
       "      <td>0.032466</td>\n",
       "      <td>0.444444</td>\n",
       "      <td>0.875</td>\n",
       "      <td>0.695652</td>\n",
       "      <td>0.850000</td>\n",
       "      <td>0.00000</td>\n",
       "      <td>0.033310</td>\n",
       "      <td>0.087329</td>\n",
       "      <td>...</td>\n",
       "      <td>0.0</td>\n",
       "      <td>1.0</td>\n",
       "      <td>0.0</td>\n",
       "      <td>0.0</td>\n",
       "      <td>0.0</td>\n",
       "      <td>0.0</td>\n",
       "      <td>0.0</td>\n",
       "      <td>0.0</td>\n",
       "      <td>1.0</td>\n",
       "      <td>0.0</td>\n",
       "    </tr>\n",
       "    <tr>\n",
       "      <th>3</th>\n",
       "      <td>0.000000</td>\n",
       "      <td>0.171233</td>\n",
       "      <td>0.037066</td>\n",
       "      <td>0.444444</td>\n",
       "      <td>0.875</td>\n",
       "      <td>0.673913</td>\n",
       "      <td>0.800000</td>\n",
       "      <td>0.10375</td>\n",
       "      <td>0.117116</td>\n",
       "      <td>0.086901</td>\n",
       "      <td>...</td>\n",
       "      <td>1.0</td>\n",
       "      <td>0.0</td>\n",
       "      <td>0.0</td>\n",
       "      <td>0.0</td>\n",
       "      <td>0.0</td>\n",
       "      <td>1.0</td>\n",
       "      <td>0.0</td>\n",
       "      <td>0.0</td>\n",
       "      <td>1.0</td>\n",
       "      <td>0.0</td>\n",
       "    </tr>\n",
       "    <tr>\n",
       "      <th>4</th>\n",
       "      <td>0.588235</td>\n",
       "      <td>0.065068</td>\n",
       "      <td>0.020398</td>\n",
       "      <td>0.777778</td>\n",
       "      <td>0.500</td>\n",
       "      <td>0.927536</td>\n",
       "      <td>0.833333</td>\n",
       "      <td>0.00000</td>\n",
       "      <td>0.205174</td>\n",
       "      <td>0.146832</td>\n",
       "      <td>...</td>\n",
       "      <td>0.0</td>\n",
       "      <td>1.0</td>\n",
       "      <td>0.0</td>\n",
       "      <td>0.0</td>\n",
       "      <td>0.0</td>\n",
       "      <td>0.0</td>\n",
       "      <td>0.0</td>\n",
       "      <td>0.0</td>\n",
       "      <td>0.0</td>\n",
       "      <td>0.0</td>\n",
       "    </tr>\n",
       "  </tbody>\n",
       "</table>\n",
       "<p>5 rows × 146 columns</p>\n",
       "</div>"
      ],
      "text/plain": [
       "   MSSubClass  LotFrontage   LotArea  OverallQual  OverallCond  YearBuilt  \\\n",
       "0    0.000000     0.167979  0.025955     0.777778        0.500   0.934783   \n",
       "1    0.235294     0.339041  0.066891     0.777778        0.500   0.971014   \n",
       "2    0.000000     0.167979  0.032466     0.444444        0.875   0.695652   \n",
       "3    0.000000     0.171233  0.037066     0.444444        0.875   0.673913   \n",
       "4    0.588235     0.065068  0.020398     0.777778        0.500   0.927536   \n",
       "\n",
       "   YearRemodAdd  MasVnrArea  BsmtFinSF1  BsmtUnfSF  ...  FireplaceQu_Unknown  \\\n",
       "0      0.866667     0.08500    0.178065   0.112158  ...                  1.0   \n",
       "1      0.933333     0.00000    0.000000   0.461901  ...                  0.0   \n",
       "2      0.850000     0.00000    0.033310   0.087329  ...                  0.0   \n",
       "3      0.800000     0.10375    0.117116   0.086901  ...                  1.0   \n",
       "4      0.833333     0.00000    0.205174   0.146832  ...                  0.0   \n",
       "\n",
       "   GarageType_Attchd  GarageType_Basment  GarageType_BuiltIn  \\\n",
       "0                1.0                 0.0                 0.0   \n",
       "1                1.0                 0.0                 0.0   \n",
       "2                1.0                 0.0                 0.0   \n",
       "3                0.0                 0.0                 0.0   \n",
       "4                1.0                 0.0                 0.0   \n",
       "\n",
       "   GarageType_CarPort  GarageType_Detchd  GarageType_Unknown  \\\n",
       "0                 0.0                0.0                 0.0   \n",
       "1                 0.0                0.0                 0.0   \n",
       "2                 0.0                0.0                 0.0   \n",
       "3                 0.0                1.0                 0.0   \n",
       "4                 0.0                0.0                 0.0   \n",
       "\n",
       "   GarageFinish_RFn  GarageFinish_Unf  GarageFinish_Unknown  \n",
       "0               0.0               0.0                   0.0  \n",
       "1               1.0               0.0                   0.0  \n",
       "2               0.0               1.0                   0.0  \n",
       "3               0.0               1.0                   0.0  \n",
       "4               0.0               0.0                   0.0  \n",
       "\n",
       "[5 rows x 146 columns]"
      ]
     },
     "execution_count": 31,
     "metadata": {},
     "output_type": "execute_result"
    }
   ],
   "source": [
    "df_train.head()"
   ]
  },
  {
   "cell_type": "code",
   "execution_count": 32,
   "id": "a2fcf2bd",
   "metadata": {},
   "outputs": [],
   "source": [
    "#Making X_train and X_test data\n",
    "X_train = df_train.drop([\"SalePrice\"],axis=1)\n",
    "y_train = df_train[\"SalePrice\"]\n",
    "\n",
    "\n",
    "\n",
    "X_test = df_test.drop([\"SalePrice\"],axis=1)\n",
    "y_test = df_test[\"SalePrice\"]"
   ]
  },
  {
   "cell_type": "code",
   "execution_count": null,
   "id": "43613f75",
   "metadata": {},
   "outputs": [],
   "source": []
  },
  {
   "cell_type": "code",
   "execution_count": 33,
   "id": "b9f50a80",
   "metadata": {},
   "outputs": [],
   "source": [
    "#Importing the library required for Ridge and creating a object for it\n",
    "from sklearn.linear_model import Ridge\n",
    "ridge = Ridge()\n",
    "\n"
   ]
  },
  {
   "cell_type": "code",
   "execution_count": 34,
   "id": "1e4c0e93",
   "metadata": {},
   "outputs": [],
   "source": [
    "#List of alpha for tuning \n",
    "params = {\"alpha\":[.00001,.0001,.001,.01,.05,.1,.2,.3,.4,.5,.6,.7,.8,.9,1,2,3,4,5,6,7,8,9,10,20,50,100,500,1000,]} "
   ]
  },
  {
   "cell_type": "code",
   "execution_count": 35,
   "id": "54305a72",
   "metadata": {},
   "outputs": [],
   "source": [
    "#We will do cross validation to get alpha\n",
    "folds = 5\n",
    "\n",
    "model_cv = GridSearchCV(estimator=ridge,\n",
    "                       param_grid=params,\n",
    "                       scoring = \"neg_mean_absolute_error\",\n",
    "                       cv = folds,\n",
    "                       return_train_score=True,\n",
    "                       verbose=1)"
   ]
  },
  {
   "cell_type": "code",
   "execution_count": 36,
   "id": "67742d14",
   "metadata": {},
   "outputs": [
    {
     "name": "stdout",
     "output_type": "stream",
     "text": [
      "Fitting 5 folds for each of 29 candidates, totalling 145 fits\n"
     ]
    },
    {
     "data": {
      "text/plain": [
       "GridSearchCV(cv=5, estimator=Ridge(),\n",
       "             param_grid={'alpha': [1e-05, 0.0001, 0.001, 0.01, 0.05, 0.1, 0.2,\n",
       "                                   0.3, 0.4, 0.5, 0.6, 0.7, 0.8, 0.9, 1, 2, 3,\n",
       "                                   4, 5, 6, 7, 8, 9, 10, 20, 50, 100, 500,\n",
       "                                   1000]},\n",
       "             return_train_score=True, scoring='neg_mean_absolute_error',\n",
       "             verbose=1)"
      ]
     },
     "execution_count": 36,
     "metadata": {},
     "output_type": "execute_result"
    }
   ],
   "source": [
    "model_cv.fit(X_train,y_train)"
   ]
  },
  {
   "cell_type": "code",
   "execution_count": 37,
   "id": "f5806d29",
   "metadata": {},
   "outputs": [
    {
     "name": "stdout",
     "output_type": "stream",
     "text": [
      "{'alpha': 2}\n"
     ]
    }
   ],
   "source": [
    "#Printing the best alpha\n",
    "print(model_cv.best_params_)"
   ]
  },
  {
   "cell_type": "code",
   "execution_count": 38,
   "id": "1c199939",
   "metadata": {},
   "outputs": [
    {
     "name": "stdout",
     "output_type": "stream",
     "text": [
      "[-3.57312248e-02 -2.01705147e-02  5.78039924e-02  1.25609431e-01\n",
      "  9.03752349e-02  2.90231534e-02  2.33631607e-02  2.67257167e-03\n",
      "  8.07039118e-03  1.53590511e-02  3.50037874e-02  8.65328672e-02\n",
      "  5.68641319e-02  9.44871928e-02  4.71831649e-02  4.59822083e-02\n",
      "  2.38301621e-02  3.08200886e-02  5.77813365e-02  7.84554717e-03\n",
      " -1.54886901e-03  5.41300293e-02  3.53641836e-02  2.17537875e-02\n",
      " -1.92085892e-03  2.33011670e-03 -7.67190417e-03  6.15215448e-02\n",
      "  4.53089458e-02  5.32459444e-02  4.10377473e-02  8.11317517e-03\n",
      " -2.97023602e-02 -1.18035461e-03  1.10794595e-02 -2.10566685e-02\n",
      " -1.83913924e-02 -2.05158880e-03 -1.68769204e-02 -3.01045641e-02\n",
      "  3.04912511e-03  2.63172601e-02  2.99177526e-03  4.86540681e-02\n",
      " -2.91503437e-02 -6.55950833e-03 -3.54282942e-02 -5.37672602e-02\n",
      " -9.51980163e-03 -6.33628824e-03 -3.14585166e-03 -7.79727285e-03\n",
      "  3.87933174e-02  4.10939373e-02 -1.50672081e-02  9.39645579e-04\n",
      " -1.40036237e-02 -8.81028761e-05  2.23343574e-02  4.88640630e-02\n",
      "  5.11339158e-03  2.00479501e-02 -5.03500406e-03 -4.64497501e-03\n",
      " -1.25962297e-02  6.20696704e-03 -1.06452171e-02 -5.92187293e-03\n",
      " -2.50510236e-03  5.79946392e-03 -2.30502230e-02  3.59079585e-02\n",
      " -1.85012190e-03  4.28712271e-03  1.49540669e-03  4.61433720e-03\n",
      "  2.25971486e-03  7.74297912e-03  1.19800106e-02  8.55503821e-03\n",
      "  6.47190546e-03 -2.05144054e-03  1.14803489e-03  5.79946392e-03\n",
      " -9.28214347e-03  8.61183856e-03 -1.85012190e-03  1.49901543e-02\n",
      "  1.04740416e-02  1.55033594e-02  1.15284503e-02  0.00000000e+00\n",
      "  5.26893514e-03 -1.52345994e-02 -2.22027830e-02  1.00700827e-02\n",
      "  9.82321138e-03 -1.15659651e-02  1.31765959e-02  1.09666646e-02\n",
      "  1.09524854e-02  3.47624294e-03 -1.06020190e-02  4.58805209e-03\n",
      "  1.21670966e-03  9.33951203e-03  1.46238472e-02  7.72526417e-03\n",
      "  3.49200535e-02 -1.65242513e-03 -3.62972313e-02 -1.94687107e-02\n",
      " -2.54446870e-02 -2.15657811e-02  2.28877018e-02 -3.08066371e-03\n",
      " -6.97288778e-03 -2.24356700e-02  2.97237355e-03  4.43830989e-03\n",
      " -5.13589541e-03 -3.94312079e-03 -1.60513722e-02 -2.15657811e-02\n",
      " -1.06829014e-02 -4.39029740e-03 -1.95557712e-02 -9.02396733e-03\n",
      " -2.88499868e-02 -2.17695891e-02 -2.34480636e-02 -1.12039552e-02\n",
      " -3.14132845e-03 -2.51475052e-02 -8.51342991e-03 -2.31524483e-02\n",
      "  1.71229694e-02 -1.04207273e-04  8.60924870e-03 -5.91225336e-03\n",
      "  5.73793555e-03 -1.78989162e-03 -5.29730202e-03 -1.04731122e-02\n",
      " -1.78989162e-03]\n"
     ]
    }
   ],
   "source": [
    "#Fitting the ridge model with alpha 0.01\n",
    "\n",
    "alpha = 2\n",
    "ridge = Ridge(alpha=alpha)\n",
    "\n",
    "ridge.fit(X_train,y_train)\n",
    "\n",
    "#Printing the penalised coefficients\n",
    "print(ridge.coef_)"
   ]
  },
  {
   "cell_type": "code",
   "execution_count": 39,
   "id": "5d2cf39b",
   "metadata": {},
   "outputs": [],
   "source": [
    "#predicting the values\n",
    "\n",
    "y_pred_train = ridge.predict(X_train)\n",
    "y_pred_test = ridge.predict(X_test)"
   ]
  },
  {
   "cell_type": "code",
   "execution_count": 40,
   "id": "b686c759",
   "metadata": {},
   "outputs": [
    {
     "name": "stdout",
     "output_type": "stream",
     "text": [
      "0.905136594430834\n",
      "0.8600972096046914\n",
      "321.2919141928048\n",
      "96.03248762154729\n",
      "0.055217650317461744\n",
      "0.05192489541542004\n"
     ]
    }
   ],
   "source": [
    "#Evaluating metrics like R2 score, RMSE,RSS\n",
    "\n",
    "metric2 = [] #created a list to store the values\n",
    "\n",
    "r2_train_lr = r2_score(y_train,y_pred_train)\n",
    "print(r2_train_lr)\n",
    "metric2.append(r2_train_lr)\n",
    "\n",
    "r2_test_lr = r2_score(y_test,y_pred_test)\n",
    "print(r2_test_lr)\n",
    "metric2.append(r2_test_lr)\n",
    "\n",
    "rss1_lr = np.sum(np.square(y_train,y_pred_train))\n",
    "print(rss1_lr)\n",
    "metric2.append(rss1_lr)\n",
    "\n",
    "rss2_lr = np.sum(np.square(y_test,y_pred_test))\n",
    "print(rss2_lr)\n",
    "metric2.append(rss2_lr)\n",
    "\n",
    "mse_train_lr = mean_squared_error(y_train,y_pred_train)\n",
    "print(mse_train_lr)\n",
    "metric2.append(mse_train_lr)\n",
    "\n",
    "mse_test_lr = mean_squared_error(y_test,y_pred_test)\n",
    "print(mse_test_lr)\n",
    "metric2.append(mse_test_lr)"
   ]
  },
  {
   "cell_type": "code",
   "execution_count": 41,
   "id": "10a5a03c",
   "metadata": {},
   "outputs": [
    {
     "name": "stdout",
     "output_type": "stream",
     "text": [
      "Fitting 5 folds for each of 29 candidates, totalling 145 fits\n"
     ]
    },
    {
     "data": {
      "text/plain": [
       "GridSearchCV(cv=5, estimator=Lasso(),\n",
       "             param_grid={'alpha': [1e-05, 0.0001, 0.001, 0.01, 0.05, 0.1, 0.2,\n",
       "                                   0.3, 0.4, 0.5, 0.6, 0.7, 0.8, 0.9, 1, 2, 3,\n",
       "                                   4, 5, 6, 7, 8, 9, 10, 20, 50, 100, 500,\n",
       "                                   1000]},\n",
       "             return_train_score=True, scoring='neg_mean_absolute_error',\n",
       "             verbose=1)"
      ]
     },
     "execution_count": 41,
     "metadata": {},
     "output_type": "execute_result"
    }
   ],
   "source": [
    "#Lasso regression\n",
    "\n",
    "#Fitting the ridge model with alpha 0.01\n",
    "from sklearn.linear_model import Lasso\n",
    "lasso = Lasso()\n",
    "\n",
    "\n",
    "#List of alpha for tuning \n",
    "params = {\"alpha\":[.00001,.0001,.001,.01,.05,.1,.2,.3,.4,.5,.6,.7,.8,.9,1,2,3,4,5,6,7,8,9,10,20,50,100,500,1000,]} \n",
    "\n",
    "#We will do cross validation to get alpha\n",
    "folds = 5\n",
    "\n",
    "model_cv1 = GridSearchCV(estimator=lasso,\n",
    "                       param_grid=params,\n",
    "                       scoring = \"neg_mean_absolute_error\",\n",
    "                       cv = folds,\n",
    "                       return_train_score=True,\n",
    "                       verbose=1)\n",
    "model_cv1.fit(X_train,y_train)\n",
    "\n"
   ]
  },
  {
   "cell_type": "code",
   "execution_count": 42,
   "id": "0ebd9a76",
   "metadata": {},
   "outputs": [
    {
     "name": "stdout",
     "output_type": "stream",
     "text": [
      "{'alpha': 0.0001}\n"
     ]
    }
   ],
   "source": [
    "#Printing the best alpha\n",
    "print(model_cv1.best_params_)"
   ]
  },
  {
   "cell_type": "code",
   "execution_count": 43,
   "id": "8f137e57",
   "metadata": {},
   "outputs": [
    {
     "name": "stdout",
     "output_type": "stream",
     "text": [
      "[-3.37422012e-02 -9.46960824e-04  6.07044681e-02  1.56651573e-01\n",
      "  1.03463864e-01  4.67227984e-02  2.00268137e-02  0.00000000e+00\n",
      "  0.00000000e+00  5.25910397e-03  0.00000000e+00  0.00000000e+00\n",
      "  0.00000000e+00  2.87446008e-01  4.94067371e-02  3.54967290e-02\n",
      "  1.87478670e-02  1.48791432e-02  4.94336176e-02  0.00000000e+00\n",
      "  0.00000000e+00  6.85154904e-02  1.39306099e-02  1.88333557e-02\n",
      " -0.00000000e+00  0.00000000e+00 -6.67917045e-03  5.76091086e-02\n",
      "  3.81870653e-02  4.67155680e-02  2.78607277e-02  5.75143581e-03\n",
      " -2.70039327e-02 -1.21991705e-03  1.16225488e-02 -1.36362887e-02\n",
      " -0.00000000e+00 -0.00000000e+00 -0.00000000e+00 -9.64960353e-03\n",
      "  7.08216813e-03  2.95034415e-02  5.22194508e-03  4.80296108e-02\n",
      " -2.32482035e-02 -1.51499256e-03 -2.40423310e-02 -3.35546570e-02\n",
      " -7.71966617e-04 -2.55357393e-04 -0.00000000e+00 -1.59569609e-03\n",
      "  3.64112157e-02  4.26407492e-02 -4.90907331e-03  0.00000000e+00\n",
      " -6.47361023e-03  0.00000000e+00  2.04207306e-02  4.86198785e-02\n",
      "  4.72429138e-03  1.38729756e-02 -0.00000000e+00 -0.00000000e+00\n",
      " -3.06801325e-03  0.00000000e+00 -7.95557319e-03 -0.00000000e+00\n",
      "  0.00000000e+00 -0.00000000e+00 -3.04927087e-03  3.02950761e-02\n",
      " -0.00000000e+00  0.00000000e+00 -0.00000000e+00  0.00000000e+00\n",
      "  0.00000000e+00  2.41764341e-04  0.00000000e+00 -0.00000000e+00\n",
      "  2.94777791e-03 -3.00685799e-03 -0.00000000e+00 -0.00000000e+00\n",
      " -0.00000000e+00  0.00000000e+00 -0.00000000e+00  5.02777765e-03\n",
      "  8.74286343e-05  0.00000000e+00  3.42484259e-03  0.00000000e+00\n",
      " -0.00000000e+00 -3.20696471e-03 -2.29899580e-02  3.56665075e-03\n",
      "  0.00000000e+00 -1.34712664e-02  2.27360535e-03  0.00000000e+00\n",
      "  0.00000000e+00 -0.00000000e+00 -7.52369291e-03  3.22163928e-03\n",
      " -0.00000000e+00  3.16566414e-03  1.12745190e-02 -0.00000000e+00\n",
      "  5.55377835e-03 -0.00000000e+00 -2.63635590e-02 -1.32611549e-02\n",
      " -1.77189656e-02 -3.27390591e-02  2.37088819e-02 -0.00000000e+00\n",
      " -5.20912090e-03 -2.53336616e-02  2.43783653e-03  4.00339104e-03\n",
      " -2.06553295e-03 -1.96552080e-03 -1.31152233e-02 -0.00000000e+00\n",
      " -8.99295021e-03 -3.06228454e-03 -0.00000000e+00 -7.67906230e-03\n",
      " -2.24858560e-02 -1.74447933e-02 -1.90513172e-02 -0.00000000e+00\n",
      "  2.77994034e-03 -1.31420756e-02 -2.24494337e-03 -1.85562331e-02\n",
      "  1.37567723e-02 -0.00000000e+00  2.78571452e-03 -0.00000000e+00\n",
      "  2.97081968e-03 -1.02542257e-03 -3.50438493e-03 -7.51218001e-03\n",
      " -3.37123307e-04]\n"
     ]
    }
   ],
   "source": [
    "#Fitting the ridge model with alpha 0.01\n",
    "\n",
    "alpha = 0.0001\n",
    "lasso = Lasso(alpha=alpha)\n",
    "\n",
    "lasso.fit(X_train,y_train)\n",
    "\n",
    "#Printing the penalised coefficients\n",
    "print(lasso.coef_)"
   ]
  },
  {
   "cell_type": "code",
   "execution_count": 44,
   "id": "42526386",
   "metadata": {},
   "outputs": [],
   "source": [
    "#predicting the values\n",
    "\n",
    "y_pred_train = lasso.predict(X_train)\n",
    "y_pred_test = lasso.predict(X_test)"
   ]
  },
  {
   "cell_type": "code",
   "execution_count": 45,
   "id": "dc62f67f",
   "metadata": {},
   "outputs": [
    {
     "name": "stdout",
     "output_type": "stream",
     "text": [
      "0.9020550337378036\n",
      "0.882853472896551\n",
      "321.2919141928048\n",
      "96.03248762154729\n",
      "0.055217650317461744\n",
      "0.05192489541542004\n"
     ]
    }
   ],
   "source": [
    "#Evaluating metrics like R2 score, RMSE,RSS\n",
    "\n",
    "metric2 = [] #created a list to store the values\n",
    "\n",
    "r2_train_lr = r2_score(y_train,y_pred_train)\n",
    "print(r2_train_lr)\n",
    "metric2.append(r2_train_lr)\n",
    "\n",
    "r2_test_lr = r2_score(y_test,y_pred_test)\n",
    "print(r2_test_lr)\n",
    "metric2.append(r2_test_lr)\n",
    "\n",
    "rss1_lr = np.sum(np.square(y_train,y_pred_train))\n",
    "print(rss1_lr)\n",
    "metric2.append(rss1_lr)\n",
    "\n",
    "rss2_lr = np.sum(np.square(y_test,y_pred_test))\n",
    "print(rss2_lr)\n",
    "metric2.append(rss2_lr)\n",
    "\n",
    "mse_train_lr = mean_squared_error(y_train,y_pred_train)\n",
    "print(mse_train_lr)\n",
    "metric2.append(mse_train_lr)\n",
    "\n",
    "mse_test_lr = mean_squared_error(y_test,y_pred_test)\n",
    "print(mse_test_lr)\n",
    "metric2.append(mse_test_lr)"
   ]
  },
  {
   "cell_type": "code",
   "execution_count": 46,
   "id": "affd7f15",
   "metadata": {},
   "outputs": [
    {
     "name": "stderr",
     "output_type": "stream",
     "text": [
      "C:\\Users\\user\\AppData\\Local\\Temp/ipykernel_6000/3205294117.py:4: UserWarning: Pandas doesn't allow columns to be created via a new attribute name - see https://pandas.pydata.org/pandas-docs/stable/indexing.html#attribute-access\n",
      "  col.rows = X_train.columns\n"
     ]
    }
   ],
   "source": [
    "#Finding significant columns or features for the price using Lasso\n",
    "col = pd.DataFrame(index=X_train.columns)\n",
    "\n",
    "col.rows = X_train.columns\n",
    "\n",
    "col[\"Lasso\"] =lasso.coef_"
   ]
  },
  {
   "cell_type": "code",
   "execution_count": null,
   "id": "467b7304",
   "metadata": {},
   "outputs": [],
   "source": []
  },
  {
   "cell_type": "code",
   "execution_count": 47,
   "id": "563c2598",
   "metadata": {},
   "outputs": [
    {
     "data": {
      "text/html": [
       "<div>\n",
       "<style scoped>\n",
       "    .dataframe tbody tr th:only-of-type {\n",
       "        vertical-align: middle;\n",
       "    }\n",
       "\n",
       "    .dataframe tbody tr th {\n",
       "        vertical-align: top;\n",
       "    }\n",
       "\n",
       "    .dataframe thead th {\n",
       "        text-align: right;\n",
       "    }\n",
       "</style>\n",
       "<table border=\"1\" class=\"dataframe\">\n",
       "  <thead>\n",
       "    <tr style=\"text-align: right;\">\n",
       "      <th></th>\n",
       "      <th>Lasso</th>\n",
       "    </tr>\n",
       "  </thead>\n",
       "  <tbody>\n",
       "    <tr>\n",
       "      <th>GrLivArea</th>\n",
       "      <td>0.287446</td>\n",
       "    </tr>\n",
       "    <tr>\n",
       "      <th>OverallQual</th>\n",
       "      <td>0.156652</td>\n",
       "    </tr>\n",
       "    <tr>\n",
       "      <th>OverallCond</th>\n",
       "      <td>0.103464</td>\n",
       "    </tr>\n",
       "    <tr>\n",
       "      <th>GarageCars</th>\n",
       "      <td>0.068515</td>\n",
       "    </tr>\n",
       "    <tr>\n",
       "      <th>LotArea</th>\n",
       "      <td>0.060704</td>\n",
       "    </tr>\n",
       "    <tr>\n",
       "      <th>MSZoning_FV</th>\n",
       "      <td>0.057609</td>\n",
       "    </tr>\n",
       "    <tr>\n",
       "      <th>TotRmsAbvGrd</th>\n",
       "      <td>0.049434</td>\n",
       "    </tr>\n",
       "    <tr>\n",
       "      <th>BsmtFullBath</th>\n",
       "      <td>0.049407</td>\n",
       "    </tr>\n",
       "    <tr>\n",
       "      <th>Neighborhood_StoneBr</th>\n",
       "      <td>0.048620</td>\n",
       "    </tr>\n",
       "    <tr>\n",
       "      <th>Neighborhood_Crawfor</th>\n",
       "      <td>0.048030</td>\n",
       "    </tr>\n",
       "  </tbody>\n",
       "</table>\n",
       "</div>"
      ],
      "text/plain": [
       "                         Lasso\n",
       "GrLivArea             0.287446\n",
       "OverallQual           0.156652\n",
       "OverallCond           0.103464\n",
       "GarageCars            0.068515\n",
       "LotArea               0.060704\n",
       "MSZoning_FV           0.057609\n",
       "TotRmsAbvGrd          0.049434\n",
       "BsmtFullBath          0.049407\n",
       "Neighborhood_StoneBr  0.048620\n",
       "Neighborhood_Crawfor  0.048030"
      ]
     },
     "execution_count": 47,
     "metadata": {},
     "output_type": "execute_result"
    }
   ],
   "source": [
    "col.sort_values(\"Lasso\",ascending=False).head(10)"
   ]
  },
  {
   "cell_type": "markdown",
   "id": "78237cf9",
   "metadata": {},
   "source": [
    "The best model is the one used Lasso Regression as it showed better model performance"
   ]
  },
  {
   "cell_type": "markdown",
   "id": "6530f098",
   "metadata": {},
   "source": [
    "The company can  use features like  GrLivArea  ,  OverallQual  , OverallCond  ,  GarageCars  ,  LotArea -  to when considering to\n",
    "buy a house cheap and flip it"
   ]
  },
  {
   "cell_type": "markdown",
   "id": "5114b33e",
   "metadata": {},
   "source": [
    "GrLivArea\t0.287446\n",
    "OverallQual\t0.156652\n",
    "OverallCond\t0.103464\n",
    "GarageCars\t0.068515\n",
    "LotArea\t0.060704\n",
    "\n",
    "These are the top five significant values after Lasso regression for SalePrice prediction"
   ]
  },
  {
   "cell_type": "markdown",
   "id": "039d7839",
   "metadata": {},
   "source": [
    "After removing above top 5 below are the next significant top5 features\n",
    "\n",
    "1stFlrSF\t-- 0.255949\n",
    "2ndFlrSF\t-- 0.128156\n",
    "GarageArea\t- -0.086085\n",
    "MSZoning_FV\t-- 0.076132\n",
    "MSZoning_RL\t-- 0.067321"
   ]
  },
  {
   "cell_type": "markdown",
   "id": "33e49e04",
   "metadata": {},
   "source": [
    "Subjective questions Answer 1:\n",
    "    \n",
    "    Ridge\n",
    "OverallQual 0.114363\n",
    "\n",
    "Lasso GrLivArea 0.285229"
   ]
  },
  {
   "cell_type": "code",
   "execution_count": null,
   "id": "736af749",
   "metadata": {},
   "outputs": [],
   "source": [
    "import xgboost as xgb\n",
    "\n",
    "xg = xgb.XGBRegressor()\n",
    "\n",
    "xg.fit(X_train,y_train)\n",
    "\n",
    "\n",
    "\n",
    "\n",
    "\n"
   ]
  },
  {
   "cell_type": "code",
   "execution_count": 49,
   "id": "dfba84a3",
   "metadata": {},
   "outputs": [
    {
     "name": "stdout",
     "output_type": "stream",
     "text": [
      "0.7164547461848052\n"
     ]
    }
   ],
   "source": [
    "r2_train_xg = r2_score(y_test,xg.predict(X_test))\n",
    "print(r2_train_xg)\n",
    "metric2.append(r2_train_xg)\n"
   ]
  },
  {
   "cell_type": "code",
   "execution_count": 53,
   "id": "aa11df08",
   "metadata": {},
   "outputs": [],
   "source": [
    "param = {\"learning_rate\":[0.10,.150,.20,.250,.30,.350,.40,.450,.5],\n",
    "        \"max_depth\":[2,4,6,8,10],\n",
    "        \"min_child_weight\":[1,10,20,30,40,50],\n",
    "        \"n_estimators\":[100,200,300,400,500]}"
   ]
  },
  {
   "cell_type": "code",
   "execution_count": null,
   "id": "45c11e8b",
   "metadata": {},
   "outputs": [],
   "source": [
    "xg2 = GridSearchCV(estimator=xg,\n",
    "                   param_grid=param,\n",
    "                   n_jobs=1,\n",
    "                   cv=5,\n",
    "                   refit=True)\n",
    "\n",
    "xg2.fit(X_train,y_train)"
   ]
  },
  {
   "cell_type": "code",
   "execution_count": null,
   "id": "9a87ac27",
   "metadata": {},
   "outputs": [],
   "source": [
    "xg2.best_params_"
   ]
  },
  {
   "cell_type": "code",
   "execution_count": null,
   "id": "13e06ee7",
   "metadata": {},
   "outputs": [],
   "source": []
  },
  {
   "cell_type": "code",
   "execution_count": null,
   "id": "31b384ba",
   "metadata": {},
   "outputs": [],
   "source": []
  },
  {
   "cell_type": "code",
   "execution_count": null,
   "id": "f5c3b897",
   "metadata": {},
   "outputs": [],
   "source": []
  },
  {
   "cell_type": "code",
   "execution_count": null,
   "id": "962a2eeb",
   "metadata": {},
   "outputs": [],
   "source": []
  }
 ],
 "metadata": {
  "kernelspec": {
   "display_name": "Python 3 (ipykernel)",
   "language": "python",
   "name": "python3"
  },
  "language_info": {
   "codemirror_mode": {
    "name": "ipython",
    "version": 3
   },
   "file_extension": ".py",
   "mimetype": "text/x-python",
   "name": "python",
   "nbconvert_exporter": "python",
   "pygments_lexer": "ipython3",
   "version": "3.9.7"
  }
 },
 "nbformat": 4,
 "nbformat_minor": 5
}
